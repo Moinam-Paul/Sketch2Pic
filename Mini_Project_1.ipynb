{
 "cells": [
  {
   "cell_type": "markdown",
   "id": "2b3e352a-adcd-474b-a59c-8aa5a3f950b8",
   "metadata": {},
   "source": [
    "## Mini-Project-1"
   ]
  },
  {
   "cell_type": "code",
   "execution_count": 2,
   "id": "378196af-2cb3-4923-b75a-5e64a7c82ce4",
   "metadata": {},
   "outputs": [],
   "source": [
    "import pandas as pd\n",
    "import numpy as np\n",
    "import matplotlib.pyplot as plt\n",
    "import seaborn as sns"
   ]
  },
  {
   "cell_type": "code",
   "execution_count": 3,
   "id": "610802e0-4667-498c-8dda-f07df712f554",
   "metadata": {},
   "outputs": [],
   "source": [
    "from sklearn.datasets import load_wine\n",
    "from sklearn.model_selection import train_test_split, cross_val_score\n",
    "from sklearn.preprocessing import StandardScaler\n",
    "from sklearn.metrics import classification_report, confusion_matrix, accuracy_score"
   ]
  },
  {
   "cell_type": "markdown",
   "id": "f4a62525-4fa2-4d7d-bdc2-520fa8e25a09",
   "metadata": {},
   "source": [
    "### Description of the Wine Dataset:-"
   ]
  },
  {
   "cell_type": "code",
   "execution_count": 10,
   "id": "0043586a-75f8-474a-9525-7c2a67380122",
   "metadata": {},
   "outputs": [
    {
     "name": "stdout",
     "output_type": "stream",
     "text": [
      "Wine Dataset Description:-\n",
      "\n",
      ".. _wine_dataset:\n",
      "\n",
      "Wine recognition dataset\n",
      "------------------------\n",
      "\n",
      "**Data Set Characteristics:**\n",
      "\n",
      ":Number of Instances: 178\n",
      ":Number of Attributes: 13 numeric, predictive attributes and the class\n",
      ":Attribute Information:\n",
      "    - Alcohol\n",
      "    - Malic acid\n",
      "    - Ash\n",
      "    - Alcalinity of ash\n",
      "    - Magnesium\n",
      "    - Total phenols\n",
      "    - Flavanoids\n",
      "    - Nonflavanoid phenols\n",
      "    - Proanthocyanins\n",
      "    - Color intensity\n",
      "    - Hue\n",
      "    - OD280/OD315 of diluted wines\n",
      "    - Proline\n",
      "    - class:\n",
      "        - class_0\n",
      "        - class_1\n",
      "        - class_2\n",
      "\n",
      ":Summary Statistics:\n",
      "\n",
      "============================= ==== ===== ======= =====\n",
      "                                Min   Max   Mean     SD\n",
      "============================= ==== ===== ======= =====\n",
      "Alcohol:                      11.0  14.8    13.0   0.8\n",
      "Malic Acid:                   0.74  5.80    2.34  1.12\n",
      "Ash:                          1.36  3.23    2.36  0.27\n",
      "Alcalinity of Ash:            10.6  30.0    19.5   3.3\n",
      "Magnesium:                    70.0 162.0    99.7  14.3\n",
      "Total Phenols:                0.98  3.88    2.29  0.63\n",
      "Flavanoids:                   0.34  5.08    2.03  1.00\n",
      "Nonflavanoid Phenols:         0.13  0.66    0.36  0.12\n",
      "Proanthocyanins:              0.41  3.58    1.59  0.57\n",
      "Colour Intensity:              1.3  13.0     5.1   2.3\n",
      "Hue:                          0.48  1.71    0.96  0.23\n",
      "OD280/OD315 of diluted wines: 1.27  4.00    2.61  0.71\n",
      "Proline:                       278  1680     746   315\n",
      "============================= ==== ===== ======= =====\n",
      "\n",
      ":Missing Attribute Values: None\n",
      ":Class Distribution: class_0 (59), class_1 (71), class_2 (48)\n",
      ":Creator: R.A. Fisher\n",
      ":Donor: Michael Marshall (MARSHALL%PLU@io.arc.nasa.gov)\n",
      ":Date: July, 1988\n",
      "\n",
      "This is a copy of UCI ML Wine recognition datasets.\n",
      "https://archive.ics.uci.edu/ml/machine-learning-databases/wine/wine.data\n",
      "\n",
      "The data is the results of a chemical analysis of wines grown in the same\n",
      "region in Italy by three different cultivators. There are thirteen different\n",
      "measurements taken for different constituents found in the three types of\n",
      "wine.\n",
      "\n",
      "Original Owners:\n",
      "\n",
      "Forina, M. et al, PARVUS -\n",
      "An Extendible Package for Data Exploration, Classification and Correlation.\n",
      "Institute of Pharmaceutical and Food Analysis and Technologies,\n",
      "Via Brigata Salerno, 16147 Genoa, Italy.\n",
      "\n",
      "Citation:\n",
      "\n",
      "Lichman, M. (2013). UCI Machine Learning Repository\n",
      "[https://archive.ics.uci.edu/ml]. Irvine, CA: University of California,\n",
      "School of Information and Computer Science.\n",
      "\n",
      ".. dropdown:: References\n",
      "\n",
      "    (1) S. Aeberhard, D. Coomans and O. de Vel,\n",
      "    Comparison of Classifiers in High Dimensional Settings,\n",
      "    Tech. Rep. no. 92-02, (1992), Dept. of Computer Science and Dept. of\n",
      "    Mathematics and Statistics, James Cook University of North Queensland.\n",
      "    (Also submitted to Technometrics).\n",
      "\n",
      "    The data was used with many others for comparing various\n",
      "    classifiers. The classes are separable, though only RDA\n",
      "    has achieved 100% correct classification.\n",
      "    (RDA : 100%, QDA 99.4%, LDA 98.9%, 1NN 96.1% (z-transformed data))\n",
      "    (All results using the leave-one-out technique)\n",
      "\n",
      "    (2) S. Aeberhard, D. Coomans and O. de Vel,\n",
      "    \"THE CLASSIFICATION PERFORMANCE OF RDA\"\n",
      "    Tech. Rep. no. 92-01, (1992), Dept. of Computer Science and Dept. of\n",
      "    Mathematics and Statistics, James Cook University of North Queensland.\n",
      "    (Also submitted to Journal of Chemometrics).\n",
      "\n"
     ]
    }
   ],
   "source": [
    "print(\"Wine Dataset Description:-\\n\")\n",
    "print(wine.DESCR)"
   ]
  },
  {
   "cell_type": "markdown",
   "id": "0565eaed-1202-4662-88d7-77e13e98233c",
   "metadata": {},
   "source": [
    "### Data provided in the Wine Dataset:-"
   ]
  },
  {
   "cell_type": "code",
   "execution_count": 11,
   "id": "62924b9a-1ea5-43dd-a426-3290c6ddba8f",
   "metadata": {},
   "outputs": [
    {
     "name": "stdout",
     "output_type": "stream",
     "text": [
      "   alcohol  malic_acid   ash  alcalinity_of_ash  magnesium  total_phenols  \\\n",
      "0    14.23        1.71  2.43               15.6      127.0           2.80   \n",
      "1    13.20        1.78  2.14               11.2      100.0           2.65   \n",
      "2    13.16        2.36  2.67               18.6      101.0           2.80   \n",
      "3    14.37        1.95  2.50               16.8      113.0           3.85   \n",
      "4    13.24        2.59  2.87               21.0      118.0           2.80   \n",
      "\n",
      "   flavanoids  nonflavanoid_phenols  proanthocyanins  color_intensity   hue  \\\n",
      "0        3.06                  0.28             2.29             5.64  1.04   \n",
      "1        2.76                  0.26             1.28             4.38  1.05   \n",
      "2        3.24                  0.30             2.81             5.68  1.03   \n",
      "3        3.49                  0.24             2.18             7.80  0.86   \n",
      "4        2.69                  0.39             1.82             4.32  1.04   \n",
      "\n",
      "   od280/od315_of_diluted_wines  proline  target  \n",
      "0                          3.92   1065.0       0  \n",
      "1                          3.40   1050.0       0  \n",
      "2                          3.17   1185.0       0  \n",
      "3                          3.45   1480.0       0  \n",
      "4                          2.93    735.0       0  \n",
      "Shape of the Wine DataFrame:- (178, 14)\n"
     ]
    }
   ],
   "source": [
    "wine = load_wine()\n",
    "\n",
    "wine_data = load_wine(as_frame=True)\n",
    "wine_df = wine_data.frame\n",
    "\n",
    "print(wine_df.head())\n",
    "\n",
    "print(\"Shape of the Wine DataFrame:-\", wine_df.shape)"
   ]
  },
  {
   "cell_type": "code",
   "execution_count": 22,
   "id": "32346f60-46fe-4c00-8a9f-bdd9ca43de73",
   "metadata": {},
   "outputs": [
    {
     "name": "stdout",
     "output_type": "stream",
     "text": [
      "Number of samples: 178\n",
      "Number of features: 13\n",
      "Feature names:\n",
      "['alcohol', 'malic_acid', 'ash', 'alcalinity_of_ash', 'magnesium', 'total_phenols', 'flavanoids', 'nonflavanoid_phenols', 'proanthocyanins', 'color_intensity', 'hue', 'od280/od315_of_diluted_wines', 'proline']\n",
      "Target classes: ['class_0' 'class_1' 'class_2']\n"
     ]
    }
   ],
   "source": [
    "# X is the feature matrix that we have obtained from wine.data, X.shape[0] denotes the no. of rows or the number of wine samples in the dataset(178).\n",
    "# On the other hand, X.shape[1] denotes the no. of columns or the number of attributes that are recorded per wine.\n",
    "# wine.feature_names contains the names of the features(like hue, alcohol, etc) used in the dataset\n",
    "# wine.target_names contains the names of the wine classes(class_0, class_1, class_2)\n",
    "print(f\"Number of samples: {X.shape[0]}\")\n",
    "print(f\"Number of features: {X.shape[1]}\")\n",
    "print(f\"Feature names:\\n{wine.feature_names}\")\n",
    "print(f\"Target classes: {wine.target_names}\")"
   ]
  },
  {
   "cell_type": "markdown",
   "id": "17eca439-283a-4558-9ffe-7fb828619069",
   "metadata": {},
   "source": [
    "### Classification/Regression Problem?"
   ]
  },
  {
   "cell_type": "code",
   "execution_count": 24,
   "id": "90bd8f61-753a-4ebf-9e34-a8255d332d1d",
   "metadata": {},
   "outputs": [
    {
     "data": {
      "text/plain": [
       "array([0, 1, 2])"
      ]
     },
     "execution_count": 24,
     "metadata": {},
     "output_type": "execute_result"
    }
   ],
   "source": [
    "np.unique(wine.target)\n",
    "# We can see above, that we have 3 target classes('class_0' 'class_1' 'class_2'), the aim of this dataset is to predict\n",
    "# to which class amongst these 3, will our wine sample lie.\n",
    "# Moreover, these are discrete values and not values on a continuous scale, which is the case in regression problems.\n",
    "# This concludes that the Wine Dataset is a Classification Problem, because its target variable represents distinct wine classes, \n",
    "# and the goal is to predict which class a sample belongs to."
   ]
  },
  {
   "cell_type": "code",
   "execution_count": 28,
   "id": "c11a50f8-b5ab-447c-b523-bf9aecbc160e",
   "metadata": {},
   "outputs": [
    {
     "name": "stdout",
     "output_type": "stream",
     "text": [
      "(142, 13)\n",
      "(36, 13)\n"
     ]
    }
   ],
   "source": [
    "X_train, X_test, y_train, y_test = train_test_split(X, y, test_size=0.2, random_state=42, stratify=y)\n",
    "print(X_train.shape)\n",
    "print(X_test.shape)\n",
    "\n",
    "# Scaling all 13 features to standard normal distribution (mean = 0, std dev. = 1)\n",
    "scaler = StandardScaler()\n",
    "X_train_scaled = scaler.fit_transform(X_train)\n",
    "X_test_scaled = scaler.transform(X_test)"
   ]
  },
  {
   "cell_type": "markdown",
   "id": "1a8bce8b-f53b-45ff-88b8-9d3eb9f0434f",
   "metadata": {},
   "source": [
    "### Dimensionality Reduction by PCA:-"
   ]
  },
  {
   "cell_type": "code",
   "execution_count": 29,
   "id": "5db64d32-0bd8-48d5-9fe7-2dca69b96c56",
   "metadata": {},
   "outputs": [],
   "source": [
    "from sklearn.decomposition import PCA"
   ]
  },
  {
   "cell_type": "code",
   "execution_count": 31,
   "id": "93a6e8e8-4664-4f23-8859-c3de8ecb9b2d",
   "metadata": {},
   "outputs": [],
   "source": [
    "# PCA is a statistical technique used to reduce the number of input features (dimensions) in a dataset while preserving as much \n",
    "# variance (information) as possible. We have 13 features in the Wine dataset, our aim is to reduce it to 2 principal features for easier computation.\n",
    "# These 2 features would capture most of the variance, allowing us to visualize and classify the data efficiently.\n",
    "pca = PCA(n_components=2)\n",
    "X_train_pca = pca.fit_transform(X_train_scaled)\n",
    "X_test_pca = pca.transform(X_test_scaled)\n",
    "\n",
    "pca_df = pd.DataFrame(X_train_pca, columns=['Feature1', 'Feature2'])\n",
    "pca_df['Target'] = y_train.values"
   ]
  },
  {
   "cell_type": "code",
   "execution_count": 32,
   "id": "a4d0215b-cc45-4e57-943f-a01395c8d9f9",
   "metadata": {},
   "outputs": [
    {
     "data": {
      "image/png": "[encoded data removed]",
      "text/plain": [
       "<Figure size 800x600 with 1 Axes>"
      ]
     },
     "metadata": {},
     "output_type": "display_data"
    }
   ],
   "source": [
    "# Plotting the 3 target wine classes ,with Feature-1 on the x-axis and Feature-2 on the y-axis, to see how the new 2 features obtained from PCA\n",
    "# separate the target wine classes.\n",
    "plt.figure(figsize=(8,6))\n",
    "sns.scatterplot(data=pca_df, x='Feature1', y='Feature2', hue='Target', palette='Set1', s=70)\n",
    "plt.title(\"PCA of Wine Dataset (2D)\")\n",
    "plt.xlabel(\"Feature-1\")\n",
    "plt.ylabel(\"Feature-2\")\n",
    "plt.show()"
   ]
  },
  {
   "cell_type": "markdown",
   "id": "bad9b8bb-9c22-44a8-9c56-7d99b0cb5206",
   "metadata": {},
   "source": [
    "### Classification using various Algorithms:-"
   ]
  },
  {
   "cell_type": "markdown",
   "id": "e633c508-e0bb-4a1d-bbcc-b9ee3b4bc9a4",
   "metadata": {},
   "source": [
    "#### 1. Support Vector Machine (SVM):-"
   ]
  },
  {
   "cell_type": "code",
   "execution_count": 33,
   "id": "bd4113a3-8c03-415e-9d2a-7bed98d366b1",
   "metadata": {},
   "outputs": [],
   "source": [
    "from sklearn.svm import SVC"
   ]
  },
  {
   "cell_type": "code",
   "execution_count": 50,
   "id": "6e8bc177-e806-4210-891b-209f027a133c",
   "metadata": {},
   "outputs": [
    {
     "name": "stdout",
     "output_type": "stream",
     "text": [
      "SVM Accuracy: 0.9444444444444444\n",
      "              precision    recall  f1-score   support\n",
      "\n",
      "           0       0.92      0.92      0.92        12\n",
      "           1       0.93      0.93      0.93        14\n",
      "           2       1.00      1.00      1.00        10\n",
      "\n",
      "    accuracy                           0.94        36\n",
      "   macro avg       0.95      0.95      0.95        36\n",
      "weighted avg       0.94      0.94      0.94        36\n",
      "\n"
     ]
    }
   ],
   "source": [
    "# SVM aims to differentiate data points of different classes by finding the most optimal hyperplane that separates each class. It achieves this by \n",
    "# maximizing the margin(the distance between the hyperplane and the nearest data points) from each class. For non-linearly separable data, SVM uses \n",
    "# kernel functions (like RBF) to project the data into a higher-dimensional space where a linear separator can be found.\n",
    "# In our problem, the algorithm will try to find the best straight line (hyperplane in 2D) that separates the wine classes, but we have to use the rbf\n",
    "# kernel, since from the scatter plot obtained before, we can see that the wine classes cannot be separated by a linear demarcator.\n",
    "svm = SVC(kernel='rbf', C=1)\n",
    "svm.fit(X_train_pca, y_train)\n",
    "y_pred_by_svm = svm.predict(X_test_pca)\n",
    "print(\"SVM Accuracy:\", accuracy_score(y_test, y_pred_by_svm))\n",
    "print(classification_report(y_test, y_pred_by_svm))"
   ]
  },
  {
   "cell_type": "markdown",
   "id": "a0508734-1efd-4a05-bff1-67df48e005cf",
   "metadata": {},
   "source": [
    "#### 2. Naive Bayes:-"
   ]
  },
  {
   "cell_type": "code",
   "execution_count": 36,
   "id": "f908cc67-c35d-4583-8e1d-17db63c433b4",
   "metadata": {},
   "outputs": [],
   "source": [
    "from sklearn.naive_bayes import GaussianNB"
   ]
  },
  {
   "cell_type": "code",
   "execution_count": 47,
   "id": "4b4d7827-3b1f-4f0a-8507-bf38d553c1e3",
   "metadata": {},
   "outputs": [
    {
     "name": "stdout",
     "output_type": "stream",
     "text": [
      "Naive Bayes Accuracy: 0.9444444444444444\n",
      "              precision    recall  f1-score   support\n",
      "\n",
      "           0       0.92      0.92      0.92        12\n",
      "           1       0.93      0.93      0.93        14\n",
      "           2       1.00      1.00      1.00        10\n",
      "\n",
      "    accuracy                           0.94        36\n",
      "   macro avg       0.95      0.95      0.95        36\n",
      "weighted avg       0.94      0.94      0.94        36\n",
      "\n"
     ]
    }
   ],
   "source": [
    "# Naive Bayes is a supervised machine learning algorithm based on Bayes' Theorem, assuming that the features are conditionally independent \n",
    "# given the class. In our case (Wine dataset), Naive Bayes now models the probability of a wine belonging to a certain class (0, 1, or 2) based on the\n",
    "# likelihood of these 2 PCA-transformed features, and classifies accordingly.\n",
    "NB = GaussianNB()\n",
    "NB.fit(X_train_pca, y_train)\n",
    "y_pred_by_NB = NB.predict(X_test_pca)\n",
    "print(\"Naive Bayes Accuracy:\", accuracy_score(y_test, y_pred_by_NB))\n",
    "print(classification_report(y_test, y_pred_by_NB))"
   ]
  },
  {
   "cell_type": "markdown",
   "id": "b6a0e1b6-5be5-4d5b-b2a0-aa65fca411c0",
   "metadata": {},
   "source": [
    "#### 3. Linear Discriminant Analysis (LDA):-"
   ]
  },
  {
   "cell_type": "code",
   "execution_count": 38,
   "id": "af6e9554-0d8d-4dcb-9d9e-cc1aed7db707",
   "metadata": {},
   "outputs": [],
   "source": [
    "from sklearn.discriminant_analysis import LinearDiscriminantAnalysis"
   ]
  },
  {
   "cell_type": "code",
   "execution_count": 53,
   "id": "2c992cba-b703-4e71-bacc-67c8949f86b2",
   "metadata": {},
   "outputs": [
    {
     "name": "stdout",
     "output_type": "stream",
     "text": [
      "LDA Accuracy: 0.9444444444444444\n",
      "              precision    recall  f1-score   support\n",
      "\n",
      "           0       0.92      0.92      0.92        12\n",
      "           1       0.93      0.93      0.93        14\n",
      "           2       1.00      1.00      1.00        10\n",
      "\n",
      "    accuracy                           0.94        36\n",
      "   macro avg       0.95      0.95      0.95        36\n",
      "weighted avg       0.94      0.94      0.94        36\n",
      "\n"
     ]
    }
   ],
   "source": [
    "# Linear Discriminant Analysis (LDA) is a supervised dimensionality reduction technique that projects high-dimensional data onto a lower-dimensional\n",
    "# space in a way that maximizes class separability. LDA works by maximizing the ratio of between-class variance to within-class variance,\n",
    "# ensuring that data points from different classes are as far apart as possible, while those from the same class stay tightly clustered.\n",
    "# In our Wine Dataset, LDA helps transform the 13 original features into a lower-dimensional space, on which we could have further fed into \n",
    "# classifiers like SVM, Naive Bayes, etc. In this case, we are feeding our PCA reduced features, into the LDA, instead of passing \n",
    "# the 13 original features.\n",
    "lda = LinearDiscriminantAnalysis()\n",
    "lda.fit(X_train_pca, y_train)\n",
    "y_pred_by_lda = lda.predict(X_test_pca)\n",
    "print(\"LDA Accuracy:\", accuracy_score(y_test, y_pred_by_lda))\n",
    "print(classification_report(y_test, y_pred_by_lda))"
   ]
  },
  {
   "cell_type": "markdown",
   "id": "b790b799-af12-4bd5-ae5f-70acd84da444",
   "metadata": {},
   "source": [
    "#### 4. Quadratic Discriminant Analysis (QDA):-"
   ]
  },
  {
   "cell_type": "code",
   "execution_count": 41,
   "id": "33bacf00-47eb-41d1-94dc-0da4055798f8",
   "metadata": {},
   "outputs": [],
   "source": [
    "from sklearn.discriminant_analysis import QuadraticDiscriminantAnalysis"
   ]
  },
  {
   "cell_type": "code",
   "execution_count": 57,
   "id": "6e4ef815-bac4-4cfa-82bf-00c3630adc12",
   "metadata": {},
   "outputs": [
    {
     "name": "stdout",
     "output_type": "stream",
     "text": [
      "QDA Accuracy: 0.9166666666666666\n",
      "              precision    recall  f1-score   support\n",
      "\n",
      "           0       0.92      0.92      0.92        12\n",
      "           1       0.87      0.93      0.90        14\n",
      "           2       1.00      0.90      0.95        10\n",
      "\n",
      "    accuracy                           0.92        36\n",
      "   macro avg       0.93      0.92      0.92        36\n",
      "weighted avg       0.92      0.92      0.92        36\n",
      "\n"
     ]
    }
   ],
   "source": [
    "# Quadratic Discriminant Analysis (QDA) is a supervised classification algorithm that models each class using its own Gaussian distribution with \n",
    "# its own mean and covariance matrix. Unlike Linear Discriminant Analysis (LDA), which assumes all classes share the same covariance matrix\n",
    "# (leading to linear decision boundaries), QDA allows each class to have a different covariance.\n",
    "# In our case (Wine dataset), QDA attempts to classify each wine sample into one of the three classes (0, 1, 2) based on the distribution of the \n",
    "# PCA-reduced features. Since we reduced the feature space to 2D using PCA, QDA will model each class as a 2D Gaussian and \n",
    "# draw curved decision boundaries accordingly.\n",
    "qda = QuadraticDiscriminantAnalysis()\n",
    "qda.fit(X_train_pca, y_train)\n",
    "y_pred_by_qda = qda.predict(X_test_pca)\n",
    "print(\"QDA Accuracy:\", accuracy_score(y_test, y_pred_by_qda))\n",
    "print(classification_report(y_test, y_pred_by_qda))"
   ]
  },
  {
   "cell_type": "markdown",
   "id": "a1a9d64e-4124-42cf-9423-f5d4ff1a3b8a",
   "metadata": {},
   "source": [
    "#### 5. K-Nearest Neighbors (KNN):-"
   ]
  },
  {
   "cell_type": "code",
   "execution_count": 45,
   "id": "bb6f6dbf-37dc-4da4-bfe2-308aa50f9517",
   "metadata": {},
   "outputs": [],
   "source": [
    "from sklearn.neighbors import KNeighborsClassifier"
   ]
  },
  {
   "cell_type": "code",
   "execution_count": 59,
   "id": "1ab66089-345d-4b91-8d99-c7d889db5fab",
   "metadata": {},
   "outputs": [
    {
     "name": "stdout",
     "output_type": "stream",
     "text": [
      "KNN Accuracy: 0.9166666666666666\n",
      "              precision    recall  f1-score   support\n",
      "\n",
      "           0       0.92      0.92      0.92        12\n",
      "           1       0.87      0.93      0.90        14\n",
      "           2       1.00      0.90      0.95        10\n",
      "\n",
      "    accuracy                           0.92        36\n",
      "   macro avg       0.93      0.92      0.92        36\n",
      "weighted avg       0.92      0.92      0.92        36\n",
      "\n"
     ]
    }
   ],
   "source": [
    "# K-Nearest Neighbors (KNN) is a simple, non-parametric, instance-based learning algorithm. It classifies a new data point based on the \n",
    "# majority class among its 'k' closest points (neighbors) in the training set, using Euclidean distance.\n",
    "# In our case (Wine dataset), we've reduced the original 13 features to just 2 using PCA. This makes the dataset low-dimensional and highly visualizable \n",
    "# ideal for KNN. The algorithm will classify a test wine sample based on the majority vote of its k closest training samples in this 2D PCA space.\n",
    "knn = KNeighborsClassifier(n_neighbors=5)\n",
    "knn.fit(X_train_pca, y_train)\n",
    "y_pred_by_knn = knn.predict(X_test_pca)\n",
    "print(\"KNN Accuracy:\", accuracy_score(y_test, y_pred_by_knn))\n",
    "print(classification_report(y_test, y_pred_by_knn))"
   ]
  },
  {
   "cell_type": "markdown",
   "id": "18af7e55-883d-4cec-a146-42fd66f11a60",
   "metadata": {},
   "source": [
    "### Comparing Accuracies of the above Classification Problems"
   ]
  },
  {
   "cell_type": "code",
   "execution_count": 65,
   "id": "aee6304d-1bcb-4789-9b61-76ab624154ed",
   "metadata": {},
   "outputs": [
    {
     "name": "stdout",
     "output_type": "stream",
     "text": [
      "          Model  Accuracy\n",
      "0          SVM   0.944444\n",
      "1  Naive Bayes   0.944444\n",
      "2          LDA   0.944444\n",
      "3          QDA   0.916667\n",
      "4          KNN   0.916667\n"
     ]
    }
   ],
   "source": [
    "results = {\n",
    "    \"SVM \": accuracy_score(y_test, y_pred_by_svm),\n",
    "    \"Naive Bayes \": accuracy_score(y_test, y_pred_by_NB),\n",
    "    \"LDA \": accuracy_score(y_test, y_pred_by_lda),\n",
    "    \"QDA \": accuracy_score(y_test, y_pred_by_qda),\n",
    "    \"KNN \": accuracy_score(y_test, y_pred_by_knn)\n",
    "}\n",
    "\n",
    "results_df = pd.DataFrame(results.items(), columns=['Model', 'Accuracy']).sort_values(by='Accuracy', ascending=False)\n",
    "\n",
    "print(results_df)"
   ]
  }
 ],
 "metadata": {
  "kernelspec": {
   "display_name": "Python [conda env:base] *",
   "language": "python",
   "name": "conda-base-py"
  },
  "language_info": {
   "codemirror_mode": {
    "name": "ipython",
    "version": 3
   },
   "file_extension": ".py",
   "mimetype": "text/x-python",
   "name": "python",
   "nbconvert_exporter": "python",
   "pygments_lexer": "ipython3",
   "version": "3.12.3"
  }
 },
 "nbformat": 4,
 "nbformat_minor": 5
}
